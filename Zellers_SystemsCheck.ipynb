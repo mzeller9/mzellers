{
 "cells": [
  {
   "cell_type": "markdown",
   "id": "a1631d47-d77a-41cd-a532-b1c166d064f5",
   "metadata": {},
   "source": [
    "# Systems Check\n",
    "## Madison Zellers\n",
    "### 8/22/2024\n",
    "\n",
    "In this class I want to learn more ***problem solving skills*** and find different ways to approach a problem.\n",
    "1. new skillset\n",
    "2. problem solving abilities\n",
    "3. code in python\n",
    "\n",
    " \n",
    "\n",
    "![cats](https://upload.wikimedia.org/wikipedia/commons/thumb/6/68/Orange_tabby_cat_sitting_on_fallen_leaves-Hisashi-01A.jpg/224px-Orange_tabby_cat_sitting_on_fallen_leaves-Hisashi-01A.jpg)"
   ]
  }
 ],
 "metadata": {
  "kernelspec": {
   "display_name": "Python 3 (ipykernel)",
   "language": "python",
   "name": "python3"
  },
  "language_info": {
   "codemirror_mode": {
    "name": "ipython",
    "version": 3
   },
   "file_extension": ".py",
   "mimetype": "text/x-python",
   "name": "python",
   "nbconvert_exporter": "python",
   "pygments_lexer": "ipython3",
   "version": "3.12.4"
  }
 },
 "nbformat": 4,
 "nbformat_minor": 5
}
